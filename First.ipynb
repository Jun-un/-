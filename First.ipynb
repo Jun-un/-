{
  "nbformat": 4,
  "nbformat_minor": 0,
  "metadata": {
    "colab": {
      "provenance": [],
      "authorship_tag": "ABX9TyNCTeExNWY6a+7nqtAGz1XT",
      "include_colab_link": true
    },
    "kernelspec": {
      "name": "python3",
      "display_name": "Python 3"
    },
    "language_info": {
      "name": "python"
    }
  },
  "cells": [
    {
      "cell_type": "markdown",
      "metadata": {
        "id": "view-in-github",
        "colab_type": "text"
      },
      "source": [
        "<a href=\"https://colab.research.google.com/github/Jun-un/-/blob/main/First.ipynb\" target=\"_parent\"><img src=\"https://colab.research.google.com/assets/colab-badge.svg\" alt=\"Open In Colab\"/></a>"
      ]
    },
    {
      "cell_type": "code",
      "execution_count": null,
      "metadata": {
        "id": "JliwT9X-VDLj"
      },
      "outputs": [],
      "source": []
    },
    {
      "cell_type": "markdown",
      "source": [],
      "metadata": {
        "id": "qqWtEGsMe96T"
      }
    },
    {
      "cell_type": "markdown",
      "source": [],
      "metadata": {
        "id": "RazjX4z9XLuX"
      }
    },
    {
      "cell_type": "code",
      "source": [
        "a = [2, 3, 4, 5, 6]\n",
        "rev_a = []\n",
        "\n",
        "for _ in range(len(a)):  # a의 길이만큼 반복\n",
        "    rev_a.append(a.pop())  # a의 마지막 원소를 꺼내서 rev_a에 추가\n",
        "\n",
        "print(\"rev_a =\", rev_a)"
      ],
      "metadata": {
        "colab": {
          "base_uri": "https://localhost:8080/"
        },
        "id": "05qRntL4VGsY",
        "outputId": "74c6ece5-779e-4070-dfeb-a446b7619592"
      },
      "execution_count": null,
      "outputs": [
        {
          "output_type": "stream",
          "name": "stdout",
          "text": [
            "rev_a = [6, 5, 4, 3, 2]\n"
          ]
        }
      ]
    },
    {
      "cell_type": "code",
      "source": [
        "tup = (1, 2, 5, 4, 3, 2, 1, 4, 7, 8, 9, 9, 3, 7, 3)\n",
        "print('주어진 튜플:', tup)\n",
        "\n",
        "temp = sorted(list(tup))\n",
        "\n",
        "max_count = 1\n",
        "count = 1\n",
        "cur_value = max_value = temp[0]\n",
        "\n",
        "for i in range(1, len(temp)):\n",
        "    if temp[i] == cur_value:\n",
        "        count += 1\n",
        "        if count > max_count or (count == max_count and cur_value > max_value):\n",
        "            max_count = count\n",
        "            max_value = cur_value\n",
        "    else:\n",
        "        cur_value = temp[i]\n",
        "        count = 1\n",
        "\n",
        "print('가장 많이 나타나는 요소는:', max_value)"
      ],
      "metadata": {
        "colab": {
          "base_uri": "https://localhost:8080/"
        },
        "id": "5vCpjD0rZZcX",
        "outputId": "d1ed7fd4-07d7-4e6b-bd7b-e643c374b6d9"
      },
      "execution_count": null,
      "outputs": [
        {
          "output_type": "stream",
          "name": "stdout",
          "text": [
            "주어진 튜플: (1, 2, 5, 4, 3, 2, 1, 4, 7, 8, 9, 9, 3, 7, 3)\n",
            "가장 많이 나타나는 요소는: 3\n"
          ]
        }
      ]
    },
    {
      "cell_type": "code",
      "source": [
        "# 메뉴 딕셔너리 생성\n",
        "menu = {\n",
        "    \"Americano\": 3000,\n",
        "    \"Ice Americano\": 3500,\n",
        "    \"Cappuccino\": 4000,\n",
        "    \"Cafe Latte\": 4500,\n",
        "    \"Espresso\": 3600\n",
        "}\n",
        "\n",
        "# 메뉴 출력\n",
        "for key in menu:\n",
        "    print(\"{:16s}  가격 : {:,}원\".format(key, menu[key]))\n"
      ],
      "metadata": {
        "colab": {
          "base_uri": "https://localhost:8080/"
        },
        "id": "EcOYWv7GaHB3",
        "outputId": "9e9169b8-0f25-402d-e148-d27db09d8664"
      },
      "execution_count": null,
      "outputs": [
        {
          "output_type": "stream",
          "name": "stdout",
          "text": [
            "Americano         가격 : 3,000원\n",
            "Ice Americano     가격 : 3,500원\n",
            "Cappuccino        가격 : 4,000원\n",
            "Cafe Latte        가격 : 4,500원\n",
            "Espresso          가격 : 3,600원\n"
          ]
        }
      ]
    },
    {
      "cell_type": "code",
      "source": [
        "# 메뉴 딕셔너리 생성\n",
        "menu = {\n",
        "    \"Americano\": 3000,\n",
        "    \"Ice Americano\": 3500,\n",
        "    \"Cappuccino\": 4000,\n",
        "    \"Cafe Latte\": 4500,\n",
        "    \"Espresso\": 3600\n",
        "}\n",
        "\n",
        "# 메뉴 출력\n",
        "for key in menu:\n",
        "    print(\"{:16s}  가격 : {:,}원\".format(key, menu[key]))\n",
        "\n",
        "# 사용자 입력 받기\n",
        "choice = input(\"위의 메뉴 중 하나를 선택하세요: \")\n",
        "\n",
        "# 입력한 메뉴가 존재하는지 확인\n",
        "if choice in menu:\n",
        "    print(\"{}는 {:,}원 입니다. 결제를 부탁합니다.\".format(choice, menu[choice]))\n",
        "else:\n",
        "    print(\"미안합니다. {}는 메뉴에 없습니다.\".format(choice))\n"
      ],
      "metadata": {
        "colab": {
          "base_uri": "https://localhost:8080/"
        },
        "id": "DsysJ9whajGe",
        "outputId": "4934c013-fe5f-468c-e084-fde6b77a7236"
      },
      "execution_count": null,
      "outputs": [
        {
          "output_type": "stream",
          "name": "stdout",
          "text": [
            "Americano         가격 : 3,000원\n",
            "Ice Americano     가격 : 3,500원\n",
            "Cappuccino        가격 : 4,000원\n",
            "Cafe Latte        가격 : 4,500원\n",
            "Espresso          가격 : 3,600원\n",
            "위의 메뉴 중 하나를 선택하세요: Americano\n",
            "Americano는 3,000원 입니다. 결제를 부탁합니다.\n"
          ]
        }
      ]
    },
    {
      "cell_type": "code",
      "source": [
        "# 메뉴 딕셔너리 생성\n",
        "menu = {\n",
        "    \"Americano\": 3000,\n",
        "    \"Ice Americano\": 3500,\n",
        "    \"Cappuccino\": 4000,\n",
        "    \"Cafe Latte\": 4500,\n",
        "    \"Espresso\": 3600\n",
        "}\n",
        "\n",
        "# 메뉴 출력\n",
        "for key in menu:\n",
        "    print(\"{:16s}  가격 : {:,}원\".format(key, menu[key]))\n",
        "\n",
        "# 사용자 입력 받기\n",
        "choice = input(\"위의 메뉴 중 하나를 선택하세요: \")\n",
        "\n",
        "# 입력한 메뉴가 존재하는지 확인\n",
        "if choice in menu:\n",
        "    print(\"{}는 {:,}원 입니다. 결제를 부탁합니다.\".format(choice, menu[choice]))\n",
        "else:\n",
        "    print(\"미안합니다. {}는 메뉴에 없습니다.\".format(choice))\n"
      ],
      "metadata": {
        "colab": {
          "base_uri": "https://localhost:8080/"
        },
        "id": "h3LKb6wmaoMO",
        "outputId": "b1bcec9a-a82d-4f99-9b32-c8c7d3c0daeb"
      },
      "execution_count": null,
      "outputs": [
        {
          "output_type": "stream",
          "name": "stdout",
          "text": [
            "Americano         가격 : 3,000원\n",
            "Ice Americano     가격 : 3,500원\n",
            "Cappuccino        가격 : 4,000원\n",
            "Cafe Latte        가격 : 4,500원\n",
            "Espresso          가격 : 3,600원\n",
            "위의 메뉴 중 하나를 선택하세요: Fan Cake\n",
            "미안합니다. Fan Cake는 메뉴에 없습니다.\n"
          ]
        }
      ]
    }
  ]
}