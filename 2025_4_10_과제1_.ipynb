{
  "nbformat": 4,
  "nbformat_minor": 0,
  "metadata": {
    "colab": {
      "provenance": [],
      "authorship_tag": "ABX9TyPM03G9VSHwiY8+Pb47fuEK",
      "include_colab_link": true
    },
    "kernelspec": {
      "name": "python3",
      "display_name": "Python 3"
    },
    "language_info": {
      "name": "python"
    }
  },
  "cells": [
    {
      "cell_type": "markdown",
      "metadata": {
        "id": "view-in-github",
        "colab_type": "text"
      },
      "source": [
        "<a href=\"https://colab.research.google.com/github/Jun-un/Jun-un/blob/main/2025_4_10_%EA%B3%BC%EC%A0%9C1_.ipynb\" target=\"_parent\"><img src=\"https://colab.research.google.com/assets/colab-badge.svg\" alt=\"Open In Colab\"/></a>"
      ]
    },
    {
      "cell_type": "code",
      "source": [
        "# 필요한 라이브러리 임포트\n",
        "import pandas as pd\n",
        "import json\n",
        "import xml.etree.ElementTree as ET\n",
        "\n",
        "# ---------------------------\n",
        "# (1) JSON 파일 → DataFrame 변환\n",
        "# ---------------------------\n",
        "\n",
        "# JSON 파일 경로\n",
        "json_path = \"/content/jsonData/Students_Grading_Dataset_Biased.json\"\n",
        "\n",
        "# JSON 파일 읽어오기\n",
        "with open(json_path, 'r', encoding='utf-8') as f:\n",
        "    json_data = json.load(f)\n",
        "\n",
        "# JSON 데이터를 DataFrame으로 변환\n",
        "df_json = pd.DataFrame(json_data)\n",
        "\n",
        "print(\"JSON 파일 DataFrame 정보:\")\n",
        "print(df_json.info())\n",
        "print(df_json.head())\n"
      ],
      "metadata": {
        "colab": {
          "base_uri": "https://localhost:8080/"
        },
        "id": "nKSVQcaqpGhz",
        "outputId": "35bbcb58-1de9-4edc-fa60-e7e355c9132e"
      },
      "execution_count": 7,
      "outputs": [
        {
          "output_type": "stream",
          "name": "stdout",
          "text": [
            "JSON 파일 DataFrame 정보:\n",
            "<class 'pandas.core.frame.DataFrame'>\n",
            "RangeIndex: 5000 entries, 0 to 4999\n",
            "Data columns (total 23 columns):\n",
            " #   Column                      Non-Null Count  Dtype  \n",
            "---  ------                      --------------  -----  \n",
            " 0   Student_ID                  5000 non-null   object \n",
            " 1   First_Name                  5000 non-null   object \n",
            " 2   Last_Name                   5000 non-null   object \n",
            " 3   Email                       5000 non-null   object \n",
            " 4   Gender                      5000 non-null   object \n",
            " 5   Age                         5000 non-null   int64  \n",
            " 6   Department                  5000 non-null   object \n",
            " 7   Attendance (%)              4484 non-null   float64\n",
            " 8   Midterm_Score               5000 non-null   float64\n",
            " 9   Final_Score                 5000 non-null   float64\n",
            " 10  Assignments_Avg             4483 non-null   float64\n",
            " 11  Quizzes_Avg                 5000 non-null   float64\n",
            " 12  Participation_Score         5000 non-null   float64\n",
            " 13  Projects_Score              5000 non-null   float64\n",
            " 14  Total_Score                 5000 non-null   float64\n",
            " 15  Grade                       5000 non-null   object \n",
            " 16  Study_Hours_per_Week        5000 non-null   float64\n",
            " 17  Extracurricular_Activities  5000 non-null   object \n",
            " 18  Internet_Access_at_Home     5000 non-null   object \n",
            " 19  Parent_Education_Level      4016 non-null   object \n",
            " 20  Family_Income_Level         5000 non-null   object \n",
            " 21  Stress_Level (1-10)         5000 non-null   int64  \n",
            " 22  Sleep_Hours_per_Night       5000 non-null   float64\n",
            "dtypes: float64(10), int64(2), object(11)\n",
            "memory usage: 898.6+ KB\n",
            "None\n",
            "  Student_ID First_Name Last_Name                    Email  Gender  Age  \\\n",
            "0      S1000       Omar  Williams  student0@university.com  Female   22   \n",
            "1      S1001      Maria     Brown  student1@university.com    Male   18   \n",
            "2      S1002      Ahmed     Jones  student2@university.com    Male   24   \n",
            "3      S1003       Omar  Williams  student3@university.com  Female   24   \n",
            "4      S1004       John     Smith  student4@university.com  Female   23   \n",
            "\n",
            "    Department  Attendance (%)  Midterm_Score  Final_Score  ...  \\\n",
            "0  Engineering           52.29          55.03        57.82  ...   \n",
            "1  Engineering           97.27          97.23        45.80  ...   \n",
            "2     Business           57.19          67.05        93.68  ...   \n",
            "3  Mathematics           95.15          47.79        80.63  ...   \n",
            "4           CS           54.18          46.59        78.89  ...   \n",
            "\n",
            "   Projects_Score  Total_Score  Grade  Study_Hours_per_Week  \\\n",
            "0           85.90        56.09      F                   6.2   \n",
            "1           55.65        50.64      A                  19.0   \n",
            "2           73.79        70.30      D                  20.7   \n",
            "3           92.12        61.63      A                  24.8   \n",
            "4           68.42        66.13      F                  15.4   \n",
            "\n",
            "   Extracurricular_Activities Internet_Access_at_Home  Parent_Education_Level  \\\n",
            "0                          No                     Yes             High School   \n",
            "1                          No                     Yes                    None   \n",
            "2                          No                     Yes                Master's   \n",
            "3                         Yes                     Yes             High School   \n",
            "4                         Yes                     Yes             High School   \n",
            "\n",
            "  Family_Income_Level Stress_Level (1-10) Sleep_Hours_per_Night  \n",
            "0              Medium                   5                   4.7  \n",
            "1              Medium                   4                   9.0  \n",
            "2                 Low                   6                   6.2  \n",
            "3                High                   3                   6.7  \n",
            "4                High                   2                   7.1  \n",
            "\n",
            "[5 rows x 23 columns]\n"
          ]
        }
      ]
    },
    {
      "cell_type": "markdown",
      "source": [
        "#과제2"
      ],
      "metadata": {
        "id": "eZtJF8F7p3K6"
      }
    },
    {
      "cell_type": "code",
      "source": [
        "# XML 파일 경로\n",
        "xml_path = \"/content/xmlData/Automobile.xml\"\n",
        "\n",
        "# XML 파일 파싱\n",
        "tree = ET.parse(xml_path)\n",
        "root = tree.getroot()\n",
        "\n",
        "# 모든 태그와 값 수집\n",
        "data = []\n",
        "for elem in root.iter():\n",
        "    # 태그와 텍스트를 저장 (None은 제외)\n",
        "    if elem.text and elem.text.strip():\n",
        "        data.append({'Tag': elem.tag, 'Text': elem.text.strip()})\n",
        "\n",
        "# 수집한 데이터를 DataFrame으로 변환\n",
        "df_xml = pd.DataFrame(data)\n",
        "\n",
        "# 결과 출력\n",
        "print(\"XML 파일 DataFrame 정보:\")\n",
        "print(df_xml.info())\n",
        "print(df_xml.head())"
      ],
      "metadata": {
        "colab": {
          "base_uri": "https://localhost:8080/"
        },
        "id": "Kbv3rTTBp2xF",
        "outputId": "a38b05cf-62db-41a6-a352-f56dd4ed6114"
      },
      "execution_count": 8,
      "outputs": [
        {
          "output_type": "stream",
          "name": "stdout",
          "text": [
            "XML 파일 DataFrame 정보:\n",
            "<class 'pandas.core.frame.DataFrame'>\n",
            "RangeIndex: 3636 entries, 0 to 3635\n",
            "Data columns (total 2 columns):\n",
            " #   Column  Non-Null Count  Dtype \n",
            "---  ------  --------------  ----- \n",
            " 0   Tag     3636 non-null   object\n",
            " 1   Text    3636 non-null   object\n",
            "dtypes: object(2)\n",
            "memory usage: 56.9+ KB\n",
            "None\n",
            "                                                 Tag  \\\n",
            "0  {urn:oasis:names:tc:opendocument:xmlns:meta:1....   \n",
            "1  {urn:oasis:names:tc:opendocument:xmlns:config:...   \n",
            "2  {urn:oasis:names:tc:opendocument:xmlns:config:...   \n",
            "3  {urn:oasis:names:tc:opendocument:xmlns:config:...   \n",
            "4  {urn:oasis:names:tc:opendocument:xmlns:config:...   \n",
            "\n",
            "                                                Text  \n",
            "0  LibreOffice/24.8.1.2$Linux_X86_64 LibreOffice_...  \n",
            "1                                                  0  \n",
            "2                                                  0  \n",
            "3                                              20200  \n",
            "4                                             180171  \n"
          ]
        }
      ]
    }
  ]
}