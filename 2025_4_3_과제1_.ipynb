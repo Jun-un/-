{
  "nbformat": 4,
  "nbformat_minor": 0,
  "metadata": {
    "colab": {
      "provenance": [],
      "authorship_tag": "ABX9TyMCl8nJV+YQl79cbYxRlFCy",
      "include_colab_link": true
    },
    "kernelspec": {
      "name": "python3",
      "display_name": "Python 3"
    },
    "language_info": {
      "name": "python"
    }
  },
  "cells": [
    {
      "cell_type": "markdown",
      "metadata": {
        "id": "view-in-github",
        "colab_type": "text"
      },
      "source": [
        "<a href=\"https://colab.research.google.com/github/Jun-un/Jun-un/blob/main/2025_4_3_%EA%B3%BC%EC%A0%9C1_.ipynb\" target=\"_parent\"><img src=\"https://colab.research.google.com/assets/colab-badge.svg\" alt=\"Open In Colab\"/></a>"
      ]
    },
    {
      "cell_type": "code",
      "source": [
        "import pandas as pd\n",
        "import numpy as np\n",
        "\n",
        "# GitHub의 자동차 생산 자료를 읽어들임\n",
        "path = \"https://github.com/dongupak/DataML/raw/main/csv/\"\n",
        "file = path + \"vehicle_prod.csv\"\n",
        "df = pd.read_csv(file, index_col=0)\n",
        "\n",
        "# 데이터프레임에서 국가명을 제외한 숫자의 합을 구하여 'Total'로 명명\n",
        "sums = df.select_dtypes(np.number).sum().rename(\"Total\")\n",
        "means = df.select_dtypes(np.number).mean().rename(\"Average\")\n",
        "\n",
        "# `pd.concat()`을 사용하여 합치기\n",
        "df_total = pd.concat([df, pd.DataFrame([sums, means])])\n",
        "\n",
        "# 결과 출력\n",
        "print(df_total)\n"
      ],
      "metadata": {
        "colab": {
          "base_uri": "https://localhost:8080/"
        },
        "id": "SO9ssr3PMXAR",
        "outputId": "5e0f9fa4-3eea-4135-d676-d17d37a02e09"
      },
      "execution_count": 8,
      "outputs": [
        {
          "output_type": "stream",
          "name": "stdout",
          "text": [
            "          2007       2008       2009   2010       2011\n",
            "China     7.71   7.950000  11.960000  15.84  16.330000\n",
            "EU       19.02  17.710000  15.000000  16.70  17.480000\n",
            "US       10.47   8.450000   5.580000   7.60   8.400000\n",
            "Japan    10.87  10.830000   7.550000   9.09   7.880000\n",
            "Korea     4.04   3.780000   3.450000   4.20   4.620000\n",
            "Mexico    2.01   2.050000   1.500000   2.25   2.540000\n",
            "Total    54.12  50.770000  45.040000  55.68  57.250000\n",
            "Average   9.02   8.461667   7.506667   9.28   9.541667\n"
          ]
        }
      ]
    }
  ]
}